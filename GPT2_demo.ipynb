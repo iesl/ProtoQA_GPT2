{
  "nbformat": 4,
  "nbformat_minor": 0,
  "metadata": {
    "colab": {
      "name": "ProtoQA",
      "provenance": [],
      "collapsed_sections": [],
      "include_colab_link": true
    },
    "kernelspec": {
      "name": "python3",
      "display_name": "Python 3"
    },
    "language_info": {
      "name": "python"
    },
    "accelerator": "GPU"
  },
  "cells": [
    {
      "cell_type": "markdown",
      "metadata": {
        "id": "view-in-github",
        "colab_type": "text"
      },
      "source": [
        "<a href=\"https://colab.research.google.com/github/elliottower/ProtoQA_GPT2/blob/main/GPT2_demo.ipynb\" target=\"_parent\"><img src=\"https://colab.research.google.com/assets/colab-badge.svg\" alt=\"Open In Colab\"/></a>"
      ]
    },
    {
      "cell_type": "markdown",
      "metadata": {
        "id": "eB40926-iW84"
      },
      "source": [
        "# ProtoQA GPT-2 Baseline\n",
        "\n"
      ]
    },
    {
      "cell_type": "code",
      "metadata": {
        "id": "ETcmZgUS5Lvo",
        "colab": {
          "base_uri": "https://localhost:8080/"
        },
        "outputId": "c8c10667-8f7f-4d92-97a8-cbef1176ab31"
      },
      "source": [
        "# Mount Google Drive\n",
        "from google.colab import drive\n",
        "drive.mount('/content/gdrive')\n",
        "%cd /content/gdrive/MyDrive/"
      ],
      "execution_count": 4,
      "outputs": [
        {
          "output_type": "stream",
          "name": "stdout",
          "text": [
            "Mounted at /content/gdrive\n",
            "/content/gdrive/MyDrive\n"
          ]
        }
      ]
    },
    {
      "cell_type": "code",
      "source": [
        "# Clone ProtoQA GPT-2 repository\n",
        "!git clone https://github.com/iesl/ProtoQA_GPT2.git --q\n",
        "%cd ProtoQA_GPT2"
      ],
      "metadata": {
        "id": "MzyXBlIJ2JR_",
        "colab": {
          "base_uri": "https://localhost:8080/"
        },
        "outputId": "4139b4c2-6e87-41d3-9f9b-77103b10eae7"
      },
      "execution_count": 5,
      "outputs": [
        {
          "output_type": "stream",
          "name": "stdout",
          "text": [
            "/content/gdrive/MyDrive/ProtoQA_GPT2\n"
          ]
        }
      ]
    },
    {
      "cell_type": "code",
      "source": [
        "# Download and unzip fine-tuned GPT2 model\n",
        "!gdown --id 1HmwcYbuUe0EQN0a2mOnv68pv3w-6Kivn\n",
        "!unzip -q model.zip"
      ],
      "metadata": {
        "colab": {
          "base_uri": "https://localhost:8080/"
        },
        "id": "BAr9Vb-000_g",
        "outputId": "1e2b6d16-3ec3-47dc-8274-660af5b6f043"
      },
      "execution_count": 6,
      "outputs": [
        {
          "output_type": "stream",
          "name": "stdout",
          "text": [
            "Downloading...\n",
            "From: https://drive.google.com/uc?id=1HmwcYbuUe0EQN0a2mOnv68pv3w-6Kivn\n",
            "To: /content/gdrive/My Drive/ProtoQA_GPT2/model.zip\n",
            "100% 5.74G/5.74G [01:09<00:00, 82.9MB/s]\n"
          ]
        }
      ]
    },
    {
      "cell_type": "code",
      "source": [
        "# Download ProtoQA dataset\n",
        "!git clone https://github.com/iesl/protoqa-data.git --q\n",
        "%mv protoqa-data/data/* ./data/\n",
        "%rm -rf protoqa-data "
      ],
      "metadata": {
        "id": "idNxw4JU_Pz-"
      },
      "execution_count": 7,
      "outputs": []
    },
    {
      "cell_type": "code",
      "source": [
        "# Download and install ProtoQA evaluator\n",
        "!git clone https://github.com/iesl/protoqa-evaluator.git --q\n",
        "!pip -q install -e protoqa-evaluator"
      ],
      "metadata": {
        "id": "v0bFJoT_4VmD",
        "colab": {
          "base_uri": "https://localhost:8080/"
        },
        "outputId": "183c7ce6-5f48-4013-df96-a28711ddbdad"
      },
      "execution_count": 8,
      "outputs": [
        {
          "output_type": "stream",
          "name": "stdout",
          "text": [
            "\u001b[?25l\r\u001b[K     |▎                               | 10 kB 7.1 MB/s eta 0:00:01\r\u001b[K     |▋                               | 20 kB 5.8 MB/s eta 0:00:01\r\u001b[K     |█                               | 30 kB 4.8 MB/s eta 0:00:01\r\u001b[K     |█▎                              | 40 kB 4.8 MB/s eta 0:00:01\r\u001b[K     |█▋                              | 51 kB 3.9 MB/s eta 0:00:01\r\u001b[K     |██                              | 61 kB 4.0 MB/s eta 0:00:01\r\u001b[K     |██▎                             | 71 kB 3.9 MB/s eta 0:00:01\r\u001b[K     |██▋                             | 81 kB 4.4 MB/s eta 0:00:01\r\u001b[K     |███                             | 92 kB 4.4 MB/s eta 0:00:01\r\u001b[K     |███▏                            | 102 kB 4.1 MB/s eta 0:00:01\r\u001b[K     |███▌                            | 112 kB 4.1 MB/s eta 0:00:01\r\u001b[K     |███▉                            | 122 kB 4.1 MB/s eta 0:00:01\r\u001b[K     |████▏                           | 133 kB 4.1 MB/s eta 0:00:01\r\u001b[K     |████▌                           | 143 kB 4.1 MB/s eta 0:00:01\r\u001b[K     |████▉                           | 153 kB 4.1 MB/s eta 0:00:01\r\u001b[K     |█████▏                          | 163 kB 4.1 MB/s eta 0:00:01\r\u001b[K     |█████▌                          | 174 kB 4.1 MB/s eta 0:00:01\r\u001b[K     |█████▉                          | 184 kB 4.1 MB/s eta 0:00:01\r\u001b[K     |██████                          | 194 kB 4.1 MB/s eta 0:00:01\r\u001b[K     |██████▍                         | 204 kB 4.1 MB/s eta 0:00:01\r\u001b[K     |██████▊                         | 215 kB 4.1 MB/s eta 0:00:01\r\u001b[K     |███████                         | 225 kB 4.1 MB/s eta 0:00:01\r\u001b[K     |███████▍                        | 235 kB 4.1 MB/s eta 0:00:01\r\u001b[K     |███████▊                        | 245 kB 4.1 MB/s eta 0:00:01\r\u001b[K     |████████                        | 256 kB 4.1 MB/s eta 0:00:01\r\u001b[K     |████████▍                       | 266 kB 4.1 MB/s eta 0:00:01\r\u001b[K     |████████▊                       | 276 kB 4.1 MB/s eta 0:00:01\r\u001b[K     |█████████                       | 286 kB 4.1 MB/s eta 0:00:01\r\u001b[K     |█████████▎                      | 296 kB 4.1 MB/s eta 0:00:01\r\u001b[K     |█████████▋                      | 307 kB 4.1 MB/s eta 0:00:01\r\u001b[K     |██████████                      | 317 kB 4.1 MB/s eta 0:00:01\r\u001b[K     |██████████▎                     | 327 kB 4.1 MB/s eta 0:00:01\r\u001b[K     |██████████▋                     | 337 kB 4.1 MB/s eta 0:00:01\r\u001b[K     |███████████                     | 348 kB 4.1 MB/s eta 0:00:01\r\u001b[K     |███████████▎                    | 358 kB 4.1 MB/s eta 0:00:01\r\u001b[K     |███████████▋                    | 368 kB 4.1 MB/s eta 0:00:01\r\u001b[K     |████████████                    | 378 kB 4.1 MB/s eta 0:00:01\r\u001b[K     |████████████▏                   | 389 kB 4.1 MB/s eta 0:00:01\r\u001b[K     |████████████▌                   | 399 kB 4.1 MB/s eta 0:00:01\r\u001b[K     |████████████▉                   | 409 kB 4.1 MB/s eta 0:00:01\r\u001b[K     |█████████████▏                  | 419 kB 4.1 MB/s eta 0:00:01\r\u001b[K     |█████████████▌                  | 430 kB 4.1 MB/s eta 0:00:01\r\u001b[K     |█████████████▉                  | 440 kB 4.1 MB/s eta 0:00:01\r\u001b[K     |██████████████▏                 | 450 kB 4.1 MB/s eta 0:00:01\r\u001b[K     |██████████████▌                 | 460 kB 4.1 MB/s eta 0:00:01\r\u001b[K     |██████████████▉                 | 471 kB 4.1 MB/s eta 0:00:01\r\u001b[K     |███████████████                 | 481 kB 4.1 MB/s eta 0:00:01\r\u001b[K     |███████████████▍                | 491 kB 4.1 MB/s eta 0:00:01\r\u001b[K     |███████████████▊                | 501 kB 4.1 MB/s eta 0:00:01\r\u001b[K     |████████████████                | 512 kB 4.1 MB/s eta 0:00:01\r\u001b[K     |████████████████▍               | 522 kB 4.1 MB/s eta 0:00:01\r\u001b[K     |████████████████▊               | 532 kB 4.1 MB/s eta 0:00:01\r\u001b[K     |█████████████████               | 542 kB 4.1 MB/s eta 0:00:01\r\u001b[K     |█████████████████▍              | 552 kB 4.1 MB/s eta 0:00:01\r\u001b[K     |█████████████████▊              | 563 kB 4.1 MB/s eta 0:00:01\r\u001b[K     |██████████████████              | 573 kB 4.1 MB/s eta 0:00:01\r\u001b[K     |██████████████████▎             | 583 kB 4.1 MB/s eta 0:00:01\r\u001b[K     |██████████████████▋             | 593 kB 4.1 MB/s eta 0:00:01\r\u001b[K     |███████████████████             | 604 kB 4.1 MB/s eta 0:00:01\r\u001b[K     |███████████████████▎            | 614 kB 4.1 MB/s eta 0:00:01\r\u001b[K     |███████████████████▋            | 624 kB 4.1 MB/s eta 0:00:01\r\u001b[K     |████████████████████            | 634 kB 4.1 MB/s eta 0:00:01\r\u001b[K     |████████████████████▎           | 645 kB 4.1 MB/s eta 0:00:01\r\u001b[K     |████████████████████▋           | 655 kB 4.1 MB/s eta 0:00:01\r\u001b[K     |█████████████████████           | 665 kB 4.1 MB/s eta 0:00:01\r\u001b[K     |█████████████████████▏          | 675 kB 4.1 MB/s eta 0:00:01\r\u001b[K     |█████████████████████▌          | 686 kB 4.1 MB/s eta 0:00:01\r\u001b[K     |█████████████████████▉          | 696 kB 4.1 MB/s eta 0:00:01\r\u001b[K     |██████████████████████▏         | 706 kB 4.1 MB/s eta 0:00:01\r\u001b[K     |██████████████████████▌         | 716 kB 4.1 MB/s eta 0:00:01\r\u001b[K     |██████████████████████▉         | 727 kB 4.1 MB/s eta 0:00:01\r\u001b[K     |███████████████████████▏        | 737 kB 4.1 MB/s eta 0:00:01\r\u001b[K     |███████████████████████▌        | 747 kB 4.1 MB/s eta 0:00:01\r\u001b[K     |███████████████████████▉        | 757 kB 4.1 MB/s eta 0:00:01\r\u001b[K     |████████████████████████▏       | 768 kB 4.1 MB/s eta 0:00:01\r\u001b[K     |████████████████████████▍       | 778 kB 4.1 MB/s eta 0:00:01\r\u001b[K     |████████████████████████▊       | 788 kB 4.1 MB/s eta 0:00:01\r\u001b[K     |█████████████████████████       | 798 kB 4.1 MB/s eta 0:00:01\r\u001b[K     |█████████████████████████▍      | 808 kB 4.1 MB/s eta 0:00:01\r\u001b[K     |█████████████████████████▊      | 819 kB 4.1 MB/s eta 0:00:01\r\u001b[K     |██████████████████████████      | 829 kB 4.1 MB/s eta 0:00:01\r\u001b[K     |██████████████████████████▍     | 839 kB 4.1 MB/s eta 0:00:01\r\u001b[K     |██████████████████████████▊     | 849 kB 4.1 MB/s eta 0:00:01\r\u001b[K     |███████████████████████████     | 860 kB 4.1 MB/s eta 0:00:01\r\u001b[K     |███████████████████████████▎    | 870 kB 4.1 MB/s eta 0:00:01\r\u001b[K     |███████████████████████████▋    | 880 kB 4.1 MB/s eta 0:00:01\r\u001b[K     |████████████████████████████    | 890 kB 4.1 MB/s eta 0:00:01\r\u001b[K     |████████████████████████████▎   | 901 kB 4.1 MB/s eta 0:00:01\r\u001b[K     |████████████████████████████▋   | 911 kB 4.1 MB/s eta 0:00:01\r\u001b[K     |█████████████████████████████   | 921 kB 4.1 MB/s eta 0:00:01\r\u001b[K     |█████████████████████████████▎  | 931 kB 4.1 MB/s eta 0:00:01\r\u001b[K     |█████████████████████████████▋  | 942 kB 4.1 MB/s eta 0:00:01\r\u001b[K     |██████████████████████████████  | 952 kB 4.1 MB/s eta 0:00:01\r\u001b[K     |██████████████████████████████▏ | 962 kB 4.1 MB/s eta 0:00:01\r\u001b[K     |██████████████████████████████▌ | 972 kB 4.1 MB/s eta 0:00:01\r\u001b[K     |██████████████████████████████▉ | 983 kB 4.1 MB/s eta 0:00:01\r\u001b[K     |███████████████████████████████▏| 993 kB 4.1 MB/s eta 0:00:01\r\u001b[K     |███████████████████████████████▌| 1.0 MB 4.1 MB/s eta 0:00:01\r\u001b[K     |███████████████████████████████▉| 1.0 MB 4.1 MB/s eta 0:00:01\r\u001b[K     |████████████████████████████████| 1.0 MB 4.1 MB/s \n",
            "\u001b[?25h"
          ]
        }
      ]
    },
    {
      "cell_type": "code",
      "source": [
        "# Set up environment\n",
        "!pip -q install transformers==2.1.1 torch==1.4.0 torchvision==0.5.0"
      ],
      "metadata": {
        "colab": {
          "base_uri": "https://localhost:8080/"
        },
        "id": "ZNpWWslu6ta6",
        "outputId": "e7fdb22b-7307-4ec6-b2dc-7d5eeaa5684c"
      },
      "execution_count": 9,
      "outputs": [
        {
          "output_type": "stream",
          "name": "stdout",
          "text": [
            "\u001b[K     |████████████████████████████████| 311 kB 4.3 MB/s \n",
            "\u001b[K     |████████████████████████████████| 753.4 MB 6.5 kB/s \n",
            "\u001b[K     |████████████████████████████████| 4.0 MB 39.4 MB/s \n",
            "\u001b[K     |████████████████████████████████| 895 kB 40.6 MB/s \n",
            "\u001b[K     |████████████████████████████████| 131 kB 41.4 MB/s \n",
            "\u001b[K     |████████████████████████████████| 1.2 MB 53.6 MB/s \n",
            "\u001b[K     |████████████████████████████████| 8.5 MB 24.7 MB/s \n",
            "\u001b[K     |████████████████████████████████| 79 kB 2.3 MB/s \n",
            "\u001b[K     |████████████████████████████████| 138 kB 47.8 MB/s \n",
            "\u001b[K     |████████████████████████████████| 127 kB 56.7 MB/s \n",
            "\u001b[31mERROR: pip's dependency resolver does not currently take into account all the packages that are installed. This behaviour is the source of the following dependency conflicts.\n",
            "torchtext 0.11.0 requires torch==1.10.0, but you have torch 1.4.0 which is incompatible.\n",
            "torchaudio 0.10.0+cu111 requires torch==1.10.0, but you have torch 1.4.0 which is incompatible.\n",
            "datascience 0.10.6 requires folium==0.2.1, but you have folium 0.8.3 which is incompatible.\u001b[0m\n",
            "\u001b[?25h"
          ]
        }
      ]
    },
    {
      "cell_type": "code",
      "source": [
        "# Generate answers with fine-tuned GPT-2 model\n",
        "!python run_generation.py \\\n",
        "        --model_type=gpt2 \\\n",
        "        --model_name_or_path='./model/large_outputb_1e_1gu_8' \\\n",
        "        --length=10 \\\n",
        "        --num_samples=300 \\\n",
        "        --temperature=0.69 \\\n",
        "        --input_file='./data/dev/dev.crowdsourced.jsonl' \\\n",
        "        --output='./'"
      ],
      "metadata": {
        "id": "DEEhCklx7pSp"
      },
      "execution_count": null,
      "outputs": []
    },
    {
      "cell_type": "code",
      "metadata": {
        "id": "4hgD92edNRAL",
        "colab": {
          "base_uri": "https://localhost:8080/"
        },
        "outputId": "15624d35-ec2a-45e1-84c6-7a59222496bf"
      },
      "source": [
        "# Evaluate answers using exact match\n",
        "!protoqa_evaluator evaluate --similarity_function exact_match ./data/dev/dev.crowdsourced.jsonl ranked_list.jsonl"
      ],
      "execution_count": 36,
      "outputs": [
        {
          "output_type": "stream",
          "name": "stdout",
          "text": [
            "[nltk_data] Downloading package stopwords to /root/nltk_data...\n",
            "[nltk_data]   Package stopwords is already up-to-date!\n",
            "[nltk_data] Downloading package punkt to /root/nltk_data...\n",
            "[nltk_data]   Package punkt is already up-to-date!\n",
            "[nltk_data] Downloading package wordnet to /root/nltk_data...\n",
            "[nltk_data]   Package wordnet is already up-to-date!\n",
            "Using exact_match similarity.\n",
            "Evaluating Max Answers - None...\n",
            "Max Answers - None: 0.486378677950231\n",
            "Evaluating Max Answers - 1...\n",
            "Max Answers - 1: 0.4334115292494849\n",
            "Evaluating Max Answers - 3...\n",
            "Max Answers - 3: 0.4071345774074471\n",
            "Evaluating Max Answers - 5...\n",
            "Max Answers - 5: 0.4322367805619048\n",
            "Evaluating Max Answers - 10...\n",
            "Max Answers - 10: 0.49432619701231323\n",
            "Evaluating Max Incorrect - None...\n",
            "Max Incorrect - None: 0.486378677950231\n",
            "Evaluating Max Incorrect - 1...\n",
            "Max Incorrect - 1: 0.22883442617661012\n",
            "Evaluating Max Incorrect - 3...\n",
            "Max Incorrect - 3: 0.3729116225547733\n",
            "Evaluating Max Incorrect - 5...\n",
            "Max Incorrect - 5: 0.42094893904996844\n"
          ]
        }
      ]
    },
    {
      "cell_type": "code",
      "source": [
        "# Evaluate answers using wordnet similarity\n",
        "!protoqa_evaluator evaluate --similarity_function wordnet ./data/dev/dev.crowdsourced.jsonl ranked_list.jsonl"
      ],
      "metadata": {
        "id": "DB1eiV9vLur2"
      },
      "execution_count": null,
      "outputs": []
    }
  ]
}